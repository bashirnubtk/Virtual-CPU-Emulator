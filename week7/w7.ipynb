{
  "nbformat": 4,
  "nbformat_minor": 0,
  "metadata": {
    "colab": {
      "provenance": [],
      "authorship_tag": "ABX9TyOqWlFSazFsQJyS4i8Vfbbi",
      "include_colab_link": true
    },
    "kernelspec": {
      "name": "python3",
      "display_name": "Python 3"
    },
    "language_info": {
      "name": "python"
    }
  },
  "cells": [
    {
      "cell_type": "markdown",
      "metadata": {
        "id": "view-in-github",
        "colab_type": "text"
      },
      "source": [
        "<a href=\"https://colab.research.google.com/github/bashirnubtk/Virtual-CPU-Emulator/blob/main/week7/w7.ipynb\" target=\"_parent\"><img src=\"https://colab.research.google.com/assets/colab-badge.svg\" alt=\"Open In Colab\"/></a>"
      ]
    },
    {
      "cell_type": "code",
      "execution_count": 4,
      "metadata": {
        "colab": {
          "base_uri": "https://localhost:8080/"
        },
        "id": "f6EtN550lp1c",
        "outputId": "c00875ca-e0e5-4236-c882-c3e3111a56f9"
      },
      "outputs": [
        {
          "output_type": "stream",
          "name": "stdout",
          "text": [
            "Enter a value for R1 (integer): 1\n",
            "Condition not met\n",
            "Do you want to call the subroutine? (yes/no): no\n",
            "Do you want to simulate an interrupt? (yes/no): yes\n",
            "Interrupt handled\n",
            "FETCH stage\n",
            "DECODE stage\n",
            "EXECUTE stage\n"
          ]
        }
      ],
      "source": [
        "# Week 7: Advanced Features\n",
        "# Week 6 functionality for I/O and prior weeks' memory management and instruction execution\n",
        "\n",
        "import time\n",
        "\n",
        "# Simulating Branching and Control Flow\n",
        "def compare_and_branch(r1, target):\n",
        "    if r1 == 0:\n",
        "        return target\n",
        "    return \"Condition not met\"\n",
        "\n",
        "# Simulating Subroutines\n",
        "def subroutine():\n",
        "    print(\"Subroutine executed\")\n",
        "\n",
        "# Simulating Interrupts\n",
        "def interrupt_handler():\n",
        "    print(\"Interrupt handled\")\n",
        "\n",
        "# Main Function\n",
        "def main():\n",
        "    # Input for Branching and Control Flow\n",
        "    r1 = int(input(\"Enter a value for R1 (integer): \"))  # Week 6 (I/O Handling)\n",
        "    target = \"Target Reached\"\n",
        "    result = compare_and_branch(r1, target)\n",
        "    print(result)  # Week 6 (Output)\n",
        "\n",
        "    # Asking user if they want to call subroutine\n",
        "    subroutine_input = input(\"Do you want to call the subroutine? (yes/no): \")  # Week 6 (I/O)\n",
        "    if subroutine_input.lower() == 'yes':\n",
        "        subroutine()  # Week 6 (Instruction Execution)\n",
        "\n",
        "    # Asking user if they want to simulate an interrupt\n",
        "    interrupt_input = input(\"Do you want to simulate an interrupt? (yes/no): \")  # Week 6 (I/O)\n",
        "    if interrupt_input.lower() == 'yes':\n",
        "        interrupt_handler()  # Week 6 (Instruction Execution)\n",
        "\n",
        "    # Simple Pipeline Mechanism\n",
        "    pipeline_stages = [\"FETCH\", \"DECODE\", \"EXECUTE\"]\n",
        "    for stage in pipeline_stages:\n",
        "        print(f\"{stage} stage\")  # Week 6 (Instruction Execution)\n",
        "\n",
        "if __name__ == \"__main__\":\n",
        "    main()\n",
        "\n"
      ]
    }
  ]
}