{
  "nbformat": 4,
  "nbformat_minor": 0,
  "metadata": {
    "colab": {
      "provenance": [],
      "include_colab_link": true
    },
    "kernelspec": {
      "name": "python3",
      "display_name": "Python 3"
    },
    "language_info": {
      "name": "python"
    }
  },
  "cells": [
    {
      "cell_type": "markdown",
      "metadata": {
        "id": "view-in-github",
        "colab_type": "text"
      },
      "source": [
        "<a href=\"https://colab.research.google.com/github/bashirnubtk/Virtual-CPU-Emulator/blob/main/Assembler.ipynb\" target=\"_parent\"><img src=\"https://colab.research.google.com/assets/colab-badge.svg\" alt=\"Open In Colab\"/></a>"
      ]
    },
    {
      "cell_type": "code",
      "execution_count": null,
      "metadata": {
        "colab": {
          "base_uri": "https://localhost:8080/"
        },
        "id": "Qsook-pYGFON",
        "outputId": "2419af28-75e1-4a05-ea5e-805c9b60ba35"
      },
      "outputs": [
        {
          "output_type": "stream",
          "name": "stdout",
          "text": [
            "00010100001010\n",
            "001101100000\n",
            "00100101100100\n",
            "010111001000\n",
            "111100000000\n"
          ]
        }
      ],
      "source": [
        "# Example usage with output\n",
        "assembly_code = [\n",
        "    \"LOAD R1, 10\",    # Load value from memory address 10 into R1\n",
        "    \"ADD R1, R2\",     # Add value of R2 to R1\n",
        "    \"STORE R1, 100\",  # Store value of R1 into memory address 100\n",
        "    \"JMP 200\",        # Jump to address 200\n",
        "    \"HALT\"            # Halt the CPU\n",
        "]\n",
        "\n",
        "# Initialize CPU\n",
        "cpu = VirtualCPU()\n",
        "\n",
        "# Initialize memory for testing\n",
        "cpu.memory[10] = 5  # Set memory address 10 to value 5\n",
        "cpu.memory[20] = 3  # Optional: Set another memory address if needed\n",
        "\n",
        "# Assemble and run the program\n",
        "machine_code = assemble_program(assembly_code)\n",
        "\n",
        "print(\"Machine Code Instructions:\")\n",
        "for code in machine_code:\n",
        "    print(code)\n",
        "\n",
        "print(\"\\nRunning Program...\\n\")\n",
        "cpu.run_program(machine_code)\n",
        "\n",
        "# Print the state of the CPU after execution\n",
        "print(\"CPU Registers:\")\n",
        "for reg, value in cpu.registers.items():\n",
        "    print(f\"{reg}: {value}\")\n",
        "\n",
        "print(\"\\nMemory Snapshot (addresses 0-20):\")\n",
        "for addr in range(21):\n",
        "    print(f\"Address {addr:02}: {cpu.memory[addr]}\")\n"
      ]
    }
  ]
}