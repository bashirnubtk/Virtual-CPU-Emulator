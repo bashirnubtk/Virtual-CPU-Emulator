{
  "nbformat": 4,
  "nbformat_minor": 0,
  "metadata": {
    "colab": {
      "provenance": [],
      "authorship_tag": "ABX9TyPkfPWTMFlApBLr7jOnAkBJ",
      "include_colab_link": true
    },
    "kernelspec": {
      "name": "python3",
      "display_name": "Python 3"
    },
    "language_info": {
      "name": "python"
    }
  },
  "cells": [
    {
      "cell_type": "markdown",
      "metadata": {
        "id": "view-in-github",
        "colab_type": "text"
      },
      "source": [
        "<a href=\"https://colab.research.google.com/github/bashirnubtk/Virtual-CPU-Emulator/blob/main/week%206/w6.ipynb\" target=\"_parent\"><img src=\"https://colab.research.google.com/assets/colab-badge.svg\" alt=\"Open In Colab\"/></a>"
      ]
    },
    {
      "cell_type": "code",
      "execution_count": 2,
      "metadata": {
        "id": "Lu5OKPFiDQ9n"
      },
      "outputs": [],
      "source": [
        "class Keyboard:\n",
        "    def get_input(self):\n",
        "        return input(\"Keyboard Input: \")\n",
        "\n",
        "class Display:\n",
        "    def display_output(self, message):\n",
        "        print(f\"Display Output: {message}\")\n",
        "\n",
        "class CPU:\n",
        "    def __init__(self, keyboard, display):\n",
        "        self.keyboard = keyboard\n",
        "        self.display = display\n",
        "        self.registers = {\"ACC\": \"\"}  # Example register for storing input/output\n",
        "\n",
        "    def execute_instruction(self, instruction):\n",
        "        if instruction == \"READ\":\n",
        "            self.registers[\"ACC\"] = self.keyboard.get_input()\n",
        "        elif instruction == \"WRITE\":\n",
        "            self.display.display_output(self.registers[\"ACC\"])\n",
        "        else:\n",
        "            print(f\"Unknown instruction: {instruction}\")\n",
        "\n",
        "def main():\n",
        "    # Initialize devices\n",
        "    keyboard = Keyboard()\n",
        "    display = Display()\n",
        "    cpu = CPU(keyboard, display)\n",
        "\n",
        "    # Simulate I/O-intensive program\n",
        "    program = [\"READ\", \"WRITE\", \"READ\", \"WRITE\"]  # Example instruction sequence\n",
        "    print(\"Executing I/O Program...\")\n",
        "    for instruction in program:\n",
        "        cpu.execute_instruction(instruction)\n",
        "\n",
        "if __name__ == \"_main_\":\n",
        "    main()"
      ]
    }
  ]
}