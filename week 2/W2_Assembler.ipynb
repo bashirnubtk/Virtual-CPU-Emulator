{
  "nbformat": 4,
  "nbformat_minor": 0,
  "metadata": {
    "colab": {
      "provenance": [],
      "authorship_tag": "ABX9TyOmvgjtmyWovcxGLI5Oq+Oz",
      "include_colab_link": true
    },
    "kernelspec": {
      "name": "python3",
      "display_name": "Python 3"
    },
    "language_info": {
      "name": "python"
    }
  },
  "cells": [
    {
      "cell_type": "markdown",
      "metadata": {
        "id": "view-in-github",
        "colab_type": "text"
      },
      "source": [
        "<a href=\"https://colab.research.google.com/github/bashirnubtk/Virtual-CPU-Emulator/blob/main/week%202/W2_Assembler.ipynb\" target=\"_parent\"><img src=\"https://colab.research.google.com/assets/colab-badge.svg\" alt=\"Open In Colab\"/></a>"
      ]
    },
    {
      "cell_type": "code",
      "execution_count": 1,
      "metadata": {
        "colab": {
          "base_uri": "https://localhost:8080/"
        },
        "id": "EC_AUdDx-gt-",
        "outputId": "138c0866-6679-4cf0-cd6c-4e62e27ccb3f"
      },
      "outputs": [
        {
          "output_type": "stream",
          "name": "stdout",
          "text": [
            "00010100001010\n",
            "001101100000\n",
            "00100101100100\n",
            "010111001000\n",
            "111100000000\n"
          ]
        }
      ],
      "source": [
        "# Define opcodes for each instruction\n",
        "INSTRUCTION_SET = {\n",
        "    'LOAD': '0001',\n",
        "    'STORE': '0010',\n",
        "    'ADD': '0011',\n",
        "    'SUB': '0100',\n",
        "    'JMP': '0101',\n",
        "    'HALT': '1111'\n",
        "}\n",
        "\n",
        "# Convert register names to binary\n",
        "REGISTER_SET = {\n",
        "    'R0': '00',\n",
        "    'R1': '01',\n",
        "    'R2': '10',\n",
        "    'R3': '11'\n",
        "}\n",
        "\n",
        "# Function to assemble a single line of assembly code\n",
        "def assemble_instruction(line):\n",
        "    parts = line.strip().replace(\",\", \"\").split()  # Remove commas\n",
        "    opcode = parts[0].upper()\n",
        "\n",
        "    # Check if opcode is valid\n",
        "    if opcode not in INSTRUCTION_SET:\n",
        "        raise ValueError(f\"Invalid instruction: {opcode}\")\n",
        "\n",
        "    binary_code = INSTRUCTION_SET[opcode]\n",
        "\n",
        "    # Handle each instruction's format\n",
        "    if opcode in ['LOAD', 'STORE']:\n",
        "        reg = REGISTER_SET[parts[1]]\n",
        "        addr = format(int(parts[2]), '08b')  # 8-bit address in binary\n",
        "        binary_code += reg + addr\n",
        "    elif opcode in ['ADD', 'SUB']:\n",
        "        reg1 = REGISTER_SET[parts[1]]\n",
        "        reg2 = REGISTER_SET[parts[2]]\n",
        "        binary_code += reg1 + reg2 + '0000'  # Extra padding for alignment\n",
        "    elif opcode == 'JMP':\n",
        "        addr = format(int(parts[1]), '08b')  # 8-bit address\n",
        "        binary_code += addr\n",
        "    elif opcode == 'HALT':\n",
        "        binary_code += '00000000'  # Pad HALT to 12 bits\n",
        "\n",
        "    return binary_code\n",
        "\n",
        "# Main assembler function\n",
        "def assemble_program(assembly_code):\n",
        "    machine_code = []\n",
        "    for line in assembly_code:\n",
        "        if line.strip() and not line.startswith(';'):  # Ignore empty lines and comments\n",
        "            machine_code.append(assemble_instruction(line))\n",
        "    return machine_code\n",
        "\n",
        "# Example usage\n",
        "assembly_code = [\n",
        "    \"LOAD R1, 10\",\n",
        "    \"ADD R1, R2\",\n",
        "    \"STORE R1, 100\",\n",
        "    \"JMP 200\",\n",
        "    \"HALT\"\n",
        "]\n",
        "\n",
        "machine_code = assemble_program(assembly_code)\n",
        "for code in machine_code:\n",
        "    print(code)  # Each line is the binary representation of the assembly instruction\n"
      ]
    }
  ]
}