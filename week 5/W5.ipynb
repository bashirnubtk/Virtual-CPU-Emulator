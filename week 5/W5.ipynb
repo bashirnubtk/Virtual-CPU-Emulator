{
  "nbformat": 4,
  "nbformat_minor": 0,
  "metadata": {
    "colab": {
      "provenance": [],
      "authorship_tag": "ABX9TyNcqoFVGfPAwkkPQDpYyGPJ",
      "include_colab_link": true
    },
    "kernelspec": {
      "name": "python3",
      "display_name": "Python 3"
    },
    "language_info": {
      "name": "python"
    }
  },
  "cells": [
    {
      "cell_type": "markdown",
      "metadata": {
        "id": "view-in-github",
        "colab_type": "text"
      },
      "source": [
        "<a href=\"https://colab.research.google.com/github/bashirnubtk/Virtual-CPU-Emulator/blob/main/week%205/W5.ipynb\" target=\"_parent\"><img src=\"https://colab.research.google.com/assets/colab-badge.svg\" alt=\"Open In Colab\"/></a>"
      ]
    },
    {
      "cell_type": "code",
      "execution_count": 2,
      "metadata": {
        "colab": {
          "base_uri": "https://localhost:8080/"
        },
        "id": "cLWG7oLhuvSm",
        "outputId": "39e9c1b4-4006-4f5a-b6b7-c179b137bbc1"
      },
      "outputs": [
        {
          "output_type": "stream",
          "name": "stdout",
          "text": [
            "Written value 99 to DS[10]\n",
            "Read value from DS[10]: 99\n",
            "Error: Offset 300 out of bounds for segment CS\n"
          ]
        }
      ],
      "source": [
        "# Memory Management for Virtual CPU\n",
        "\n",
        "# Constants for Memory and Segments\n",
        "MEMORY_SIZE = 256  # Total memory size in bytes\n",
        "SEGMENT_SIZE = MEMORY_SIZE // 3  # Divide memory into three equal segments\n",
        "\n",
        "# Simulated Memory and Segment Definitions\n",
        "memory = [0] * MEMORY_SIZE  # Simulated physical memory\n",
        "SEGMENTS = {\n",
        "    \"CS\": (0, SEGMENT_SIZE),                          # Code Segment\n",
        "    \"DS\": (SEGMENT_SIZE, 2 * SEGMENT_SIZE),           # Data Segment\n",
        "    \"SS\": (2 * SEGMENT_SIZE, MEMORY_SIZE),            # Stack Segment\n",
        "}\n",
        "\n",
        "# Memory Operations\n",
        "def read_memory(address):\n",
        "    \"\"\"\n",
        "    Reads a value from memory at the specified physical address.\n",
        "    \"\"\"\n",
        "    if 0 <= address < MEMORY_SIZE:\n",
        "        return memory[address]\n",
        "    raise ValueError(f\"Invalid memory read at address {address} (out of bounds)\")\n",
        "\n",
        "def write_memory(address, value):\n",
        "    \"\"\"\n",
        "    Writes a value to memory at the specified physical address.\n",
        "    \"\"\"\n",
        "    if 0 <= address < MEMORY_SIZE:\n",
        "        memory[address] = value\n",
        "    else:\n",
        "        raise ValueError(f\"Invalid memory write at address {address} (out of bounds)\")\n",
        "\n",
        "# Address Mapping\n",
        "def map_address(segment, offset):\n",
        "    \"\"\"\n",
        "    Maps a logical address (segment + offset) to a physical memory address.\n",
        "    \"\"\"\n",
        "    if segment not in SEGMENTS:\n",
        "        raise ValueError(f\"Invalid segment name: {segment}\")\n",
        "\n",
        "    base, limit = SEGMENTS[segment]\n",
        "    physical_address = base + offset\n",
        "\n",
        "    if base <= physical_address < limit:\n",
        "        return physical_address\n",
        "    raise ValueError(f\"Offset {offset} out of bounds for segment {segment}\")\n",
        "\n",
        "# Testing the Memory Management System\n",
        "if __name__ == \"__main__\":\n",
        "    try:\n",
        "        # Writing to Data Segment (DS)\n",
        "        ds_physical_address = map_address(\"DS\", 10)  # Map logical address DS[10]\n",
        "        write_memory(ds_physical_address, 99)        # Write value 99 to DS[10]\n",
        "        print(f\"Written value 99 to DS[10]\")\n",
        "\n",
        "        # Reading from Data Segment (DS)\n",
        "        value = read_memory(ds_physical_address)     # Read back from DS[10]\n",
        "        print(f\"Read value from DS[10]: {value}\")    # Output: 99\n",
        "\n",
        "        # Invalid Access (Out of bounds)\n",
        "        invalid_address = map_address(\"CS\", 300)    # Attempt invalid mapping\n",
        "    except ValueError as error:\n",
        "        print(f\"Error: {error}\")\n"
      ]
    }
  ]
}