{
  "nbformat": 4,
  "nbformat_minor": 0,
  "metadata": {
    "colab": {
      "provenance": [],
      "include_colab_link": true
    },
    "kernelspec": {
      "name": "python3",
      "display_name": "Python 3"
    },
    "language_info": {
      "name": "python"
    }
  },
  "cells": [
    {
      "cell_type": "markdown",
      "metadata": {
        "id": "view-in-github",
        "colab_type": "text"
      },
      "source": [
        "<a href=\"https://colab.research.google.com/github/bashirnubtk/Virtual-CPU-Emulator/blob/main/Final%20submission/Final_Virtual_Cpu.ipynb\" target=\"_parent\"><img src=\"https://colab.research.google.com/assets/colab-badge.svg\" alt=\"Open In Colab\"/></a>"
      ]
    },
    {
      "cell_type": "code",
      "execution_count": 1,
      "metadata": {
        "colab": {
          "base_uri": "https://localhost:8080/"
        },
        "id": "sZ8SJhByHZv7",
        "outputId": "49f1915c-b759-47db-dbd3-6bbe650d0923"
      },
      "outputs": [
        {
          "output_type": "stream",
          "name": "stdout",
          "text": [
            "Enter value: 1\n",
            "INPUT: R0 = 1 (Binary: 00000001)\n",
            "Enter value: 3\n",
            "INPUT: R1 = 3 (Binary: 00000011)\n",
            "MULT: R2 = R0 (00000001) * R1 (00000011) → 3 (Binary: 00000011)\n",
            "OUTPUT: R2 = 3 (Binary: 00000011)\n",
            "ADD: R3 = R0 (00000001) + R1 (00000011) → 4 (Binary: 00000100)\n",
            "OUTPUT: R3 = 4 (Binary: 00000100)\n",
            "SUB: R4 = R0 (00000001) - R1 (00000011) → -2 (Binary: 00000b10)\n",
            "OUTPUT: R4 = -2 (Binary: 00000b10)\n",
            "HALT: Stopping execution\n",
            "Registers: [1, 3, 3, 4, -2, 0, 0, 0, 0, 0, 0, 0, 0, 0, 0, 0]\n"
          ]
        }
      ],
      "source": [
        "import logging\n",
        "\n",
        "class VirtualCPU:\n",
        "    def __init__(self):\n",
        "        \"\"\" Initialize CPU with registers, memory, and program counter \"\"\"\n",
        "        self.registers = [0] * 16  # 16 General-purpose registers\n",
        "        self.memory = [0] * 256  # 256-byte memory space\n",
        "        self.pc = 0  # Program counter\n",
        "        self.running = True  # CPU running state\n",
        "\n",
        "        # Logging setup for debugging\n",
        "        logging.basicConfig(filename=\"cpu_log.txt\", level=logging.INFO, format=\"%(message)s\")\n",
        "\n",
        "    def fetch(self):\n",
        "        \"\"\" Fetch the next instruction from memory \"\"\"\n",
        "        if self.pc < len(self.memory):\n",
        "            instruction = self.memory[self.pc]\n",
        "            self.pc += 1\n",
        "            return instruction\n",
        "        return None\n",
        "\n",
        "    def decode(self, instruction):\n",
        "        \"\"\" Decode the fetched instruction \"\"\"\n",
        "        return instruction  # Simple pass-through for now\n",
        "\n",
        "    def execute(self, instruction):\n",
        "        \"\"\" Execute the fetched instruction and log in binary format \"\"\"\n",
        "        if instruction is None:\n",
        "            return\n",
        "\n",
        "        opcode = instruction[0]\n",
        "        binary_op = \"\"\n",
        "\n",
        "        if opcode == \"INPUT\":\n",
        "            reg = instruction[1]\n",
        "            value = int(input(f\"Enter value: \"))\n",
        "            self.registers[reg] = value\n",
        "            binary_op = f\"{bin(value)[2:].zfill(8)}\"\n",
        "            print(f\"INPUT: R{reg} = {value} (Binary: {binary_op})\")\n",
        "\n",
        "        elif opcode == \"OUTPUT\":\n",
        "            reg = instruction[1]\n",
        "            value = self.registers[reg]\n",
        "            binary_op = f\"{bin(value)[2:].zfill(8)}\"\n",
        "            print(f\"OUTPUT: R{reg} = {value} (Binary: {binary_op})\")\n",
        "\n",
        "        elif opcode == \"ADD\":\n",
        "            reg1, reg2, reg3 = instruction[1], instruction[2], instruction[3]\n",
        "            self.registers[reg1] = self.registers[reg2] + self.registers[reg3]\n",
        "            binary_op = f\"{bin(self.registers[reg1])[2:].zfill(8)}\"\n",
        "            print(f\"ADD: R{reg1} = R{reg2} ({bin(self.registers[reg2])[2:].zfill(8)}) + R{reg3} ({bin(self.registers[reg3])[2:].zfill(8)}) → {self.registers[reg1]} (Binary: {binary_op})\")\n",
        "\n",
        "        elif opcode == \"SUB\":\n",
        "            reg1, reg2, reg3 = instruction[1], instruction[2], instruction[3]\n",
        "            self.registers[reg1] = self.registers[reg2] - self.registers[reg3]\n",
        "            binary_op = f\"{bin(self.registers[reg1])[2:].zfill(8)}\"\n",
        "            print(f\"SUB: R{reg1} = R{reg2} ({bin(self.registers[reg2])[2:].zfill(8)}) - R{reg3} ({bin(self.registers[reg3])[2:].zfill(8)}) → {self.registers[reg1]} (Binary: {binary_op})\")\n",
        "\n",
        "        elif opcode == \"MULT\":\n",
        "            reg1, reg2, reg3 = instruction[1], instruction[2], instruction[3]\n",
        "            self.registers[reg1] = self.registers[reg2] * self.registers[reg3]\n",
        "            binary_op = f\"{bin(self.registers[reg1])[2:].zfill(8)}\"\n",
        "            print(f\"MULT: R{reg1} = R{reg2} ({bin(self.registers[reg2])[2:].zfill(8)}) * R{reg3} ({bin(self.registers[reg3])[2:].zfill(8)}) → {self.registers[reg1]} (Binary: {binary_op})\")\n",
        "\n",
        "        elif opcode == \"HALT\":\n",
        "            self.running = False\n",
        "            print(\"HALT: Stopping execution\")\n",
        "            binary_op = \"00000000\"\n",
        "\n",
        "        else:\n",
        "            print(f\"Unknown opcode: {opcode}\")\n",
        "\n",
        "        # Log binary representation\n",
        "        logging.info(f\"Executed: {instruction} -> Binary: {binary_op}\")\n",
        "\n",
        "    def run(self, program):\n",
        "        \"\"\" Load and execute a program \"\"\"\n",
        "        self.memory[:len(program)] = program\n",
        "        while self.running:\n",
        "            instruction = self.fetch()\n",
        "            decoded_instr = self.decode(instruction)\n",
        "            self.execute(decoded_instr)\n",
        "\n",
        "        # Final register state\n",
        "        print(f\"Registers: {self.registers}\")\n",
        "\n",
        "\n",
        "# Example Program (With MULT, ADD, SUB)\n",
        "program = [\n",
        "    (\"INPUT\", 0),   # Take input for R0\n",
        "    (\"INPUT\", 1),   # Take input for R1\n",
        "    (\"MULT\", 2, 0, 1),  # R2 = R0 * R1\n",
        "    (\"OUTPUT\", 2),  # Print R2\n",
        "    (\"ADD\", 3, 0, 1),  # R3 = R0 + R1\n",
        "    (\"OUTPUT\", 3),  # Print R3\n",
        "    (\"SUB\", 4, 0, 1),  # R4 = R0 - R1\n",
        "    (\"OUTPUT\", 4),  # Print R4\n",
        "    (\"HALT\",)       # Stop execution\n",
        "]\n",
        "\n",
        "# Run the Virtual CPU\n",
        "cpu = VirtualCPU()\n",
        "cpu.run(program)\n"
      ]
    }
  ]
}